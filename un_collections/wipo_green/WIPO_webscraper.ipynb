{
 "cells": [
  {
   "cell_type": "code",
   "execution_count": 50,
   "metadata": {},
   "outputs": [],
   "source": [
    "import requests\n",
    "from bs4 import BeautifulSoup\n",
    "from IPython.core.display import HTML\n",
    "from selenium import webdriver\n",
    "import time\n",
    "import random\n",
    "import os\n",
    "from selenium.webdriver.common.by import By\n",
    "from selenium.webdriver.support.ui import WebDriverWait\n",
    "from selenium.webdriver.support import expected_conditions as EC\n",
    "\n",
    "\n",
    "chromedriver = os.environ['CHROME_DRIVER']\n",
    "driver = webdriver.Chrome(chromedriver)\n",
    "\n",
    "link = 'https://www3.wipo.int/wipogreen-database/'\n",
    "driver.get(link)"
   ]
  },
  {
   "cell_type": "code",
   "execution_count": 51,
   "metadata": {},
   "outputs": [],
   "source": [
    "tile_click = True\n",
    "count = 1\n",
    "cause_dictionary = {}"
   ]
  },
  {
   "cell_type": "code",
   "execution_count": 52,
   "metadata": {},
   "outputs": [],
   "source": [
    "#clicks all buttons\n",
    "\n",
    "#clicks all buttons\n",
    "\n",
    "while tile_click:\n",
    "    try:\n",
    "        button = driver.find_element_by_xpath('//*[@id=\"wipo-int\"]/div[1]/div/div[1]/div[3]/div/a[{}]'.format(count))\n",
    "        time.sleep(5)\n",
    "        category_name = driver.find_element_by_xpath('//*[@id=\"wipo-int\"]/div[1]/div/div[1]/div[3]/div/a[{}]'.format(count)).text\n",
    "        driver.execute_script(\"arguments[0].click();\", button)\n",
    "        count += 1\n",
    "        #then show more\n",
    "        #clicks all titles\n",
    "        project_click = True\n",
    "        project_count = 1\n",
    "        while project_click:\n",
    "            first_set = 1\n",
    "            table = 1\n",
    "            try:\n",
    "                button = driver.find_element_by_xpath('//*[@id=\"wipo-int\"]/div[2]/div/div[1]/div[2]/div[3]/div[2]/div[{}]/h4/a'.format(project_count))\n",
    "                time.sleep(5)\n",
    "                entry = button.text\n",
    "                cause_dictionary[entry] = {} #this is our title\n",
    "                cause_dictionary[entry][\"category\"] = category_name\n",
    "                cause_dictionary[entry][\"submitted_by\"] = driver.find_element_by_xpath('//*[@id=\"wipo-int\"]/div[2]/div/div[1]/div[2]/div[3]/div[2]/div[{}]/ul/li[2]/a'.format(project_count)).text\n",
    "                driver.execute_script(\"arguments[0].click();\", button)\n",
    "                #code to scrape page\n",
    "                cause_dictionary[entry][\"published\"] = driver.find_element_by_xpath('//*[@id=\"searchDetail\"]/div/ul/li[2]/time').text\n",
    "                cause_dictionary[entry][\"updated\"] = driver.find_element_by_xpath('//*[@id=\"searchDetail\"]/div/ul/li[3]/time').text\n",
    "                if driver.find_element_by_xpath('//*[@id=\"wipo-int\"]/div[1]/div/div[1]/section/div/div[2]/h2[1]').text == 'Technology features':\n",
    "                    cause_dictionary[entry][\"proposal/needed\"] = \"proposal\"\n",
    "                else:\n",
    "                    cause_dictionary[entry][\"proposal/needed\"] = \"needed\"\n",
    "                scraper = True\n",
    "                while scraper:\n",
    "                    try:\n",
    "                        feature_ = driver.find_element_by_xpath('//*[@id=\"wipo-int\"]/div[1]/div/div[1]/section/div/div[2]/table/tbody/tr[{}]/th'.format(first_set))\n",
    "                        try:\n",
    "                            feature_text = driver.find_element_by_xpath('//*[@id=\"wipo-int\"]/div[1]/div/div[1]/section/div/div[2]/table/tbody/tr[{}]/td/pre'.format(first_set))\n",
    "                            first_set += 1\n",
    "                            cause_dictionary[entry][feature_.text] = feature_text.text\n",
    "                        except:\n",
    "                            feature_text = driver.find_element_by_xpath('//*[@id=\"wipo-int\"]/div[1]/div/div[1]/section/div/div[2]/table/tbody/tr[{}]/td'.format(first_set))\n",
    "                            first_set += 1\n",
    "                            cause_dictionary[entry][feature_.text] = feature_text.text\n",
    "                    except:\n",
    "                        try:\n",
    "                            for table in range(1,3):\n",
    "                                table_stop = True\n",
    "                                first_set = 1\n",
    "                                while table_stop:\n",
    "                                    try:\n",
    "                                        feature_ = driver.find_element_by_xpath('//*[@id=\"wipo-int\"]/div[1]/div/div[1]/section/div/div[2]/table[{}]/tbody/tr[{}]/th'.format(table, first_set))\n",
    "                                        feature_text = driver.find_element_by_xpath('//*[@id=\"wipo-int\"]/div[1]/div/div[1]/section/div/div[2]/table[{}]/tbody/tr[{}]/td/pre'.format(table, first_set))\n",
    "                                        first_set += 1\n",
    "                                        cause_dictionary[entry][feature_.text] = feature_text.text\n",
    "                                    except:\n",
    "                                        try:\n",
    "                                            feature_ = driver.find_element_by_xpath('//*[@id=\"wipo-int\"]/div[1]/div/div[1]/section/div/div[2]/table[{}]/tbody/tr[{}]/th'.format(table, first_set))\n",
    "                                            feature_text = driver.find_element_by_xpath('//*[@id=\"wipo-int\"]/div[1]/div/div[1]/section/div/div[2]/table[{}]/tbody/tr[{}]/td'.format(table, first_set))\n",
    "                                            first_set += 1\n",
    "                                            cause_dictionary[entry][feature_.text] = feature_text.text\n",
    "                                        except:\n",
    "                                            first_set = 1\n",
    "                                            table_stop = False\n",
    "                            scraper = False\n",
    "                        except:\n",
    "                            scraper = False\n",
    "                project_count += 1\n",
    "                #return to page\n",
    "                driver.execute_script(\"window.history.go(-1)\")\n",
    "            except:\n",
    "                #then click next page\n",
    "                try:\n",
    "                    button = driver.find_element_by_xpath('//*[@title=\"Next\"]')\n",
    "                    time.sleep(5)\n",
    "                    driver.execute_script(\"arguments[0].click();\", button)\n",
    "                    project_count = 1\n",
    "                except:\n",
    "                    #return to tiles\n",
    "#                     df = pd.DataFrame.from_dict(cause_dictionary, orient='index')\n",
    "#                     df.to_csv('{}_data.csv'.format(category_name))\n",
    "                    project_click = False\n",
    "                    link = 'https://www3.wipo.int/wipogreen-database/'\n",
    "                    driver.get(link)\n",
    "    except:\n",
    "        tile_click = False"
   ]
  },
  {
   "cell_type": "code",
   "execution_count": 87,
   "metadata": {},
   "outputs": [],
   "source": [
    "import pandas as pd\n",
    "X = pd.DataFrame.from_dict(cause_dictionary, orient='index')"
   ]
  },
  {
   "cell_type": "code",
   "execution_count": 88,
   "metadata": {},
   "outputs": [],
   "source": [
    "X.reset_index(inplace=True)"
   ]
  },
  {
   "cell_type": "code",
   "execution_count": 90,
   "metadata": {},
   "outputs": [],
   "source": [
    "wipo_df = X.rename(columns={'index':'title', 'category':'sector', 'published':'date_posted', 'proposal/needed':'meta_category',\\\n",
    "                            'updated': 'last_updated', 'Benefits':'benefits', 'Resources to be saved or improved':'resources_saved',\\\n",
    "                            'Technical fields':'technical_fields', 'Stage of development':'development_stage',\\\n",
    "                            'Project summary':'project_summary', 'Technology type':'type', 'meta_category':'seeking_support'})"
   ]
  },
  {
   "cell_type": "code",
   "execution_count": 91,
   "metadata": {},
   "outputs": [],
   "source": [
    "wipo_df['meta_org'] = 'wipo_green'"
   ]
  },
  {
   "cell_type": "code",
   "execution_count": 94,
   "metadata": {},
   "outputs": [],
   "source": [
    "wipo_df['meta_category'] = wipo_df['meta_category'].apply(lambda x: 'need' if x is 'needed' else 'offer')"
   ]
  },
  {
   "cell_type": "code",
   "execution_count": 96,
   "metadata": {},
   "outputs": [],
   "source": [
    "wipo_df.to_json('wipo_green.json', orient='records')"
   ]
  }
 ],
 "metadata": {
  "kernelspec": {
   "display_name": "Python 3",
   "language": "python",
   "name": "python3"
  },
  "language_info": {
   "codemirror_mode": {
    "name": "ipython",
    "version": 3
   },
   "file_extension": ".py",
   "mimetype": "text/x-python",
   "name": "python",
   "nbconvert_exporter": "python",
   "pygments_lexer": "ipython3",
   "version": "3.6.3"
  }
 },
 "nbformat": 4,
 "nbformat_minor": 2
}
