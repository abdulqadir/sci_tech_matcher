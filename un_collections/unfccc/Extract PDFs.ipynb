{
 "cells": [
  {
   "cell_type": "code",
   "execution_count": 2,
   "metadata": {
    "scrolled": true
   },
   "outputs": [],
   "source": [
    "import pandas as pd\n",
    "import pdb\n",
    "import urllib.request\n",
    "from io import StringIO, BytesIO\n",
    "import re\n",
    "\n",
    "from pdfminer.pdfparser import PDFParser, PDFDocument\n",
    "from pdfminer.pdfinterp import PDFResourceManager, PDFPageInterpreter\n",
    "from pdfminer.converter import PDFPageAggregator\n",
    "from pdfminer.layout import LAParams, LTTextBox, LTTextLine, LTTextBoxHorizontal"
   ]
  },
  {
   "cell_type": "code",
   "execution_count": null,
   "metadata": {},
   "outputs": [],
   "source": [
    "raw_unfccc_data = pd.read_csv(\"unfccc_data.csv\")\n",
    "raw_unfccc_data.head(2)"
   ]
  },
  {
   "cell_type": "code",
   "execution_count": null,
   "metadata": {},
   "outputs": [],
   "source": [
    "len(raw_unfccc_data)"
   ]
  },
  {
   "cell_type": "code",
   "execution_count": null,
   "metadata": {},
   "outputs": [],
   "source": [
    "# sanitize links\n",
    "pd.set_option(\"display.max_colwidth\", 300)\n",
    "\n",
    "raw_unfccc_data[\"document_url\"] = raw_unfccc_data[\"document_url\"].str.replace(\" \", \"%20\")\n",
    "links = raw_unfccc_data[\"document_url\"]\n",
    "links"
   ]
  },
  {
   "cell_type": "markdown",
   "metadata": {},
   "source": [
    "## Extract PDF text from `document_url`"
   ]
  },
  {
   "cell_type": "code",
   "execution_count": null,
   "metadata": {},
   "outputs": [],
   "source": [
    "headers = {\n",
    "    \"user-agent\":\"Mozilla/5.0 (Macintosh; Intel Mac OS X 10_12_6) AppleWebKit/537.36(KHTML, like Gecko) Chrome/61.0.3163.100 Safari/537.36\"\n",
    "}"
   ]
  },
  {
   "cell_type": "code",
   "execution_count": null,
   "metadata": {},
   "outputs": [],
   "source": [
    "def get_beginning_of_pdf(link):\n",
    "    request = urllib.request.Request(link, headers=headers)\n",
    "    raw_pdf =  urllib.request.urlopen(request)\n",
    "    parser = PDFParser(raw_pdf)\n",
    "    doc = PDFDocument()\n",
    "    parser.set_document(doc)\n",
    "    doc.set_parser(parser)\n",
    "    doc.initialize('')\n",
    "    rsrcmgr = PDFResourceManager()\n",
    "    laparams = LAParams()\n",
    "    laparams.char_margin = 1.0\n",
    "    laparams.word_margin = 1.0\n",
    "    device = PDFPageAggregator(rsrcmgr, laparams=laparams)\n",
    "    interpreter = PDFPageInterpreter(rsrcmgr, device)\n",
    "    extracted_text = ''\n",
    "\n",
    "    for page in doc.get_pages():\n",
    "        interpreter.process_page(page)\n",
    "        layout = device.get_result()\n",
    "        for lt_obj in layout:\n",
    "            if isinstance(lt_obj, LTTextBox) or isinstance(lt_obj, LTTextLine):\n",
    "                extracted_text += lt_obj.get_text()\n",
    "    \n",
    "    content = [line.strip().replace(\"\\n\", \" \") for line in extracted_text.split(\" \") if line != \"\\n\"]\n",
    "    return \" \".join(content[:500])"
   ]
  },
  {
   "cell_type": "code",
   "execution_count": null,
   "metadata": {},
   "outputs": [],
   "source": [
    "timeout_links = links.iloc[260:270]\n",
    "timeout_links"
   ]
  },
  {
   "cell_type": "code",
   "execution_count": null,
   "metadata": {
    "scrolled": true
   },
   "outputs": [],
   "source": [
    "summaries = []\n",
    "\n",
    "# skip 260 to 270 because of weird timeout issues\n",
    "\n",
    "for pdf_link in links:\n",
    "    try:\n",
    "        if pdf_link not in timeout_links:\n",
    "            summaries.append(get_beginning_of_pdf(pdf_link))\n",
    "        else:\n",
    "            summaries.append(\"Unable to parse\")\n",
    "    except:\n",
    "        summaries.append(\"Unable to parse\")"
   ]
  },
  {
   "cell_type": "code",
   "execution_count": null,
   "metadata": {},
   "outputs": [],
   "source": [
    "pd.Series(summaries).to_csv(\"all_summaries.csv\")"
   ]
  },
  {
   "cell_type": "code",
   "execution_count": null,
   "metadata": {},
   "outputs": [],
   "source": [
    "pd.Series(summaries).value_counts()[:2]"
   ]
  },
  {
   "cell_type": "markdown",
   "metadata": {
    "collapsed": true
   },
   "source": [
    "## concat data"
   ]
  },
  {
   "cell_type": "code",
   "execution_count": null,
   "metadata": {},
   "outputs": [],
   "source": [
    "timeouts = pd.DataFrame([\"Unable to parse\" for i in range(0, 10)])\n",
    "    \n",
    "raw_1 = pd.read_csv(\"summaries1.csv\", header=None)\n",
    "raw_2 = pd.read_csv(\"summaries2.csv\", header=None)\n",
    "raw_3 = pd.read_csv(\"summaries3.csv\", header=None)\n",
    "raw_4 = pd.read_csv(\"summaries4.csv\", header=None)\n",
    "raw_summaries = pd.concat([raw_1, raw_2, timeouts, raw_3, raw_4])\n",
    "del raw_summaries[raw_summaries.columns[0]]\n",
    "raw_summaries.columns = [\"summary\"]\n",
    "raw_summaries.head()"
   ]
  },
  {
   "cell_type": "code",
   "execution_count": null,
   "metadata": {},
   "outputs": [],
   "source": [
    "summaries = raw_summaries.copy()\n",
    "summaries[\"document_url\"] = links\n",
    "summaries.head()"
   ]
  },
  {
   "cell_type": "code",
   "execution_count": null,
   "metadata": {},
   "outputs": [],
   "source": [
    "summaries.shape"
   ]
  },
  {
   "cell_type": "code",
   "execution_count": null,
   "metadata": {},
   "outputs": [],
   "source": [
    "unfccc_data = raw_unfccc_data.copy()\n",
    "del unfccc_data[unfccc_data.columns[0]]\n",
    "unfccc_data[\"document_url\"] = links # to account for bad links\n",
    "unfccc_data.head(1)"
   ]
  },
  {
   "cell_type": "code",
   "execution_count": null,
   "metadata": {},
   "outputs": [],
   "source": [
    "unfccc_data = unfccc_data.merge(summaries, on=\"document_url\", how=\"left\")\n",
    "unfccc_data.sample(2)"
   ]
  },
  {
   "cell_type": "code",
   "execution_count": null,
   "metadata": {},
   "outputs": [],
   "source": []
  }
 ],
 "metadata": {
  "anaconda-cloud": {},
  "kernelspec": {
   "display_name": "Python 3",
   "language": "python",
   "name": "python3"
  },
  "language_info": {
   "codemirror_mode": {
    "name": "ipython",
    "version": 3
   },
   "file_extension": ".py",
   "mimetype": "text/x-python",
   "name": "python",
   "nbconvert_exporter": "python",
   "pygments_lexer": "ipython3",
   "version": "3.6.3"
  }
 },
 "nbformat": 4,
 "nbformat_minor": 2
}
